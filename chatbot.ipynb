{
 "cells": [
  {
   "cell_type": "code",
   "execution_count": null,
   "id": "b8f33f85-1c60-47cd-8089-e2f3012d5017",
   "metadata": {},
   "outputs": [
    {
     "name": "stderr",
     "output_type": "stream",
     "text": [
      "[nltk_data] Downloading package punkt to\n",
      "[nltk_data]     C:\\Users\\anush\\AppData\\Roaming\\nltk_data...\n",
      "[nltk_data]   Package punkt is already up-to-date!\n"
     ]
    },
    {
     "name": "stdout",
     "output_type": "stream",
     "text": [
      "EduBuddy: Hi! I'm EduBuddy, your friendly assistant. Here's what I can help with:\n",
      "1. Motivation and positivity\n",
      "2. Study tips and focus strategies\n",
      "3. Friendly conversations\n",
      "4. Emotional support\n",
      "Type 'exit' anytime to leave the chat.\n"
     ]
    },
    {
     "name": "stdin",
     "output_type": "stream",
     "text": [
      "EduBuddy: Before we start, what's your name?  Hi, I am Anushka\n"
     ]
    },
    {
     "name": "stdout",
     "output_type": "stream",
     "text": [
      "EduBuddy: Got it, Anushka! Nice to meet you!\n"
     ]
    },
    {
     "name": "stdin",
     "output_type": "stream",
     "text": [
      "Anushka:  Nice to meet you too\n"
     ]
    },
    {
     "name": "stdout",
     "output_type": "stream",
     "text": [
      "EduBuddy: Hello! How can I assist you today?\n"
     ]
    },
    {
     "name": "stdin",
     "output_type": "stream",
     "text": [
      "Anushka:  Im feeling a bit sad\n"
     ]
    },
    {
     "name": "stdout",
     "output_type": "stream",
     "text": [
      "EduBuddy: Don't worry, Anushka. I'm here to help. Let's focus on something positive together.\n"
     ]
    }
   ],
   "source": [
    "import json\n",
    "import random\n",
    "import re\n",
    "import nltk\n",
    "from nltk.tokenize import word_tokenize\n",
    "\n",
    "nltk.download('punkt')\n",
    "\n",
    "# Load the intents from the intents.json file\n",
    "with open('intents.json') as file:\n",
    "    intents_data = json.load(file)\n",
    "\n",
    "# Initialize user data\n",
    "user_name = None\n",
    "\n",
    "# Function to extract the name from the user input\n",
    "def extract_name(user_input):\n",
    "    # If the user just types a single word (likely their name)\n",
    "    if len(user_input.split()) == 1 and user_input.isalpha():\n",
    "        return user_input.capitalize()  # Capitalize the name\n",
    "    \n",
    "    # Regex patterns to extract name with case insensitivity\n",
    "    patterns = [\n",
    "        r\"my name is (\\w+)\",  # Simple case: 'My name is Anushka'\n",
    "        r\"I am (\\w+)\",         # 'I am Anushka'\n",
    "        r\"call me (\\w+)\",      # 'Call me Anushka'\n",
    "        r\"I'm (\\w+)\",          # 'I'm Anushka'\n",
    "        r\"i am (\\w+)\",         # Allow lower-case variations\n",
    "        r\"i'm (\\w+)\"           # Allow lower-case variations\n",
    "    ]\n",
    "    \n",
    "    for pattern in patterns:\n",
    "        match = re.search(pattern, user_input, re.IGNORECASE)  # Case insensitive search\n",
    "        if match:\n",
    "            return match.group(1).capitalize()  # Capitalize the first letter of the name\n",
    "    return None\n",
    "\n",
    "# Function to get response based on detected intent\n",
    "# Function to get response based on detected intent\n",
    "def get_response(user_input):\n",
    "    global user_name\n",
    "    \n",
    "    # Tokenize user input\n",
    "    user_input = user_input.lower()\n",
    "    \n",
    "    # If the name is not set, try to extract it\n",
    "    if not user_name:\n",
    "        name = extract_name(user_input)\n",
    "        if name:\n",
    "            user_name = name\n",
    "            return f\"Got it! Nice to meet you, {user_name}. What can I do for you today?\"\n",
    "        else:\n",
    "            return \"What should I call you? Please tell me your name.\"\n",
    "    \n",
    "    # Check if the input matches any patterns for emotion detection or other intents\n",
    "    for intent in intents_data['intents']:\n",
    "        for pattern in intent['patterns']:\n",
    "            if pattern.lower() in user_input:\n",
    "                # Get the response and format it with the user's name if needed\n",
    "                response = random.choice(intent['responses'])\n",
    "                if '{name}' in response:\n",
    "                    response = response.format(name=user_name)\n",
    "                return response\n",
    "    \n",
    "    # If no pattern matches, return a default response with user's name\n",
    "    return f\"I'm not sure I understand, {user_name}. Can you clarify what you need help with?\"\n",
    "\n",
    "# Main chatbot function to run in terminal\n",
    "def chatbot():\n",
    "    print(\"EduBuddy: Hi! I'm EduBuddy, your friendly assistant. Here's what I can help with:\")\n",
    "    print(\"\"\"1. Motivation and positivity\n",
    "2. Study tips and focus strategies\n",
    "3. Friendly conversations\n",
    "4. Emotional support\n",
    "Type 'exit' anytime to leave the chat.\"\"\")\n",
    "\n",
    "    # Ask for user's name if not already known\n",
    "    while True:\n",
    "        user_input = input(\"EduBuddy: Before we start, what's your name? \").strip()\n",
    "        name = extract_name(user_input)\n",
    "        if name:\n",
    "            global user_name\n",
    "            user_name = name\n",
    "            print(f\"EduBuddy: Got it, {user_name}! Nice to meet you!\")\n",
    "            break\n",
    "        else:\n",
    "            print(\"EduBuddy: I didn't catch that. Could you please tell me your name?\")\n",
    "\n",
    "    # Start the actual conversation\n",
    "    while True:\n",
    "        user_input = input(f\"{user_name}: \").strip()\n",
    "        \n",
    "        if user_input.lower() in [\"bye\", \"goodbye\", \"exit\", \"see you\", \"later\"]:\n",
    "            print(f\"EduBuddy: Goodbye, {user_name}! Remember, I'm always here to help. Take care!\")\n",
    "            break\n",
    "        \n",
    "        response = get_response(user_input)\n",
    "        print(f\"EduBuddy: {response}\")\n",
    "\n",
    "# Run the chatbot\n",
    "if __name__ == \"__main__\":\n",
    "    chatbot()\n",
    "\n",
    "\n"
   ]
  },
  {
   "cell_type": "code",
   "execution_count": null,
   "id": "517a497b-a936-4a0d-b425-8d9a272832f5",
   "metadata": {},
   "outputs": [],
   "source": []
  }
 ],
 "metadata": {
  "kernelspec": {
   "display_name": "Python 3 (ipykernel)",
   "language": "python",
   "name": "python3"
  },
  "language_info": {
   "codemirror_mode": {
    "name": "ipython",
    "version": 3
   },
   "file_extension": ".py",
   "mimetype": "text/x-python",
   "name": "python",
   "nbconvert_exporter": "python",
   "pygments_lexer": "ipython3",
   "version": "3.12.4"
  }
 },
 "nbformat": 4,
 "nbformat_minor": 5
}
